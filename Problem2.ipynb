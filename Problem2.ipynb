{
 "cells": [
  {
   "attachments": {},
   "cell_type": "markdown",
   "metadata": {},
   "source": [
    "# Aunalytics Data Science Exercise Problem 2\n",
    "\n",
    "### Libraries"
   ]
  },
  {
   "cell_type": "code",
   "execution_count": 2,
   "metadata": {},
   "outputs": [],
   "source": [
    "import pandas as pd\n",
    "import numpy as np\n",
    "import matplotlib.pyplot as plt\n",
    "from matplotlib.ticker import PercentFormatter\n",
    "from scipy.stats import t\n",
    "import math"
   ]
  },
  {
   "cell_type": "code",
   "execution_count": 3,
   "metadata": {},
   "outputs": [],
   "source": [
    "#Custom two-sample CI function\n",
    "def TwoSampCI(group1, group2, alpha = 0.05):\n",
    "    m1 = group1.mean()\n",
    "    m2 = group2.mean()\n",
    "    sd1 = group1.std()\n",
    "    sd2 = group2.std()\n",
    "    n1 = len(group1)\n",
    "    n2 = len(group2)\n",
    "    df = math.ceil((sd1 + sd2)**2 / ((sd1**2/(n1 - 1)) + (sd2**2/(n2 - 1))))\n",
    "    CIl = round((m1 - m2) - t.ppf(1 - (alpha)/2, df)*np.sqrt(sd1**2/n1 + sd2**2/n2), 4)\n",
    "    CIu = round((m1 - m2) + t.ppf(1 - (alpha)/2, df)*np.sqrt(sd1**2/n1 + sd2**2/n2), 4)\n",
    "    print(\"A \"+str((1-alpha)*100)+\"% two-sample CI is (\"+str(CIl)+\",\"+str(CIu)+\")\")"
   ]
  },
  {
   "cell_type": "code",
   "execution_count": 4,
   "metadata": {},
   "outputs": [
    {
     "data": {
      "text/html": [
       "<div>\n",
       "<style scoped>\n",
       "    .dataframe tbody tr th:only-of-type {\n",
       "        vertical-align: middle;\n",
       "    }\n",
       "\n",
       "    .dataframe tbody tr th {\n",
       "        vertical-align: top;\n",
       "    }\n",
       "\n",
       "    .dataframe thead th {\n",
       "        text-align: right;\n",
       "    }\n",
       "</style>\n",
       "<table border=\"1\" class=\"dataframe\">\n",
       "  <thead>\n",
       "    <tr style=\"text-align: right;\">\n",
       "      <th></th>\n",
       "      <th>age</th>\n",
       "      <th>workclass</th>\n",
       "      <th>fnlwgt</th>\n",
       "      <th>education</th>\n",
       "      <th>education-num</th>\n",
       "      <th>marital-status</th>\n",
       "      <th>occupation</th>\n",
       "      <th>relationship</th>\n",
       "      <th>race</th>\n",
       "      <th>sex</th>\n",
       "      <th>capital-gain</th>\n",
       "      <th>capital-loss</th>\n",
       "      <th>hours-per-week</th>\n",
       "      <th>native-country</th>\n",
       "      <th>class</th>\n",
       "    </tr>\n",
       "  </thead>\n",
       "  <tbody>\n",
       "    <tr>\n",
       "      <th>0</th>\n",
       "      <td>39</td>\n",
       "      <td>State-gov</td>\n",
       "      <td>77516</td>\n",
       "      <td>Bachelors</td>\n",
       "      <td>13</td>\n",
       "      <td>Never-married</td>\n",
       "      <td>Adm-clerical</td>\n",
       "      <td>Not-in-family</td>\n",
       "      <td>White</td>\n",
       "      <td>Male</td>\n",
       "      <td>2174</td>\n",
       "      <td>0</td>\n",
       "      <td>40</td>\n",
       "      <td>United-States</td>\n",
       "      <td>&lt;=50K</td>\n",
       "    </tr>\n",
       "    <tr>\n",
       "      <th>1</th>\n",
       "      <td>50</td>\n",
       "      <td>Self-emp-not-inc</td>\n",
       "      <td>83311</td>\n",
       "      <td>Bachelors</td>\n",
       "      <td>13</td>\n",
       "      <td>Married-civ-spouse</td>\n",
       "      <td>Exec-managerial</td>\n",
       "      <td>Husband</td>\n",
       "      <td>White</td>\n",
       "      <td>Male</td>\n",
       "      <td>0</td>\n",
       "      <td>0</td>\n",
       "      <td>13</td>\n",
       "      <td>United-States</td>\n",
       "      <td>&lt;=50K</td>\n",
       "    </tr>\n",
       "    <tr>\n",
       "      <th>2</th>\n",
       "      <td>38</td>\n",
       "      <td>Private</td>\n",
       "      <td>215646</td>\n",
       "      <td>HS-grad</td>\n",
       "      <td>9</td>\n",
       "      <td>Divorced</td>\n",
       "      <td>Handlers-cleaners</td>\n",
       "      <td>Not-in-family</td>\n",
       "      <td>White</td>\n",
       "      <td>Male</td>\n",
       "      <td>0</td>\n",
       "      <td>0</td>\n",
       "      <td>40</td>\n",
       "      <td>United-States</td>\n",
       "      <td>&lt;=50K</td>\n",
       "    </tr>\n",
       "    <tr>\n",
       "      <th>3</th>\n",
       "      <td>53</td>\n",
       "      <td>Private</td>\n",
       "      <td>234721</td>\n",
       "      <td>11th</td>\n",
       "      <td>7</td>\n",
       "      <td>Married-civ-spouse</td>\n",
       "      <td>Handlers-cleaners</td>\n",
       "      <td>Husband</td>\n",
       "      <td>Black</td>\n",
       "      <td>Male</td>\n",
       "      <td>0</td>\n",
       "      <td>0</td>\n",
       "      <td>40</td>\n",
       "      <td>United-States</td>\n",
       "      <td>&lt;=50K</td>\n",
       "    </tr>\n",
       "    <tr>\n",
       "      <th>4</th>\n",
       "      <td>28</td>\n",
       "      <td>Private</td>\n",
       "      <td>338409</td>\n",
       "      <td>Bachelors</td>\n",
       "      <td>13</td>\n",
       "      <td>Married-civ-spouse</td>\n",
       "      <td>Prof-specialty</td>\n",
       "      <td>Wife</td>\n",
       "      <td>Black</td>\n",
       "      <td>Female</td>\n",
       "      <td>0</td>\n",
       "      <td>0</td>\n",
       "      <td>40</td>\n",
       "      <td>Cuba</td>\n",
       "      <td>&lt;=50K</td>\n",
       "    </tr>\n",
       "    <tr>\n",
       "      <th>5</th>\n",
       "      <td>37</td>\n",
       "      <td>Private</td>\n",
       "      <td>284582</td>\n",
       "      <td>Masters</td>\n",
       "      <td>14</td>\n",
       "      <td>Married-civ-spouse</td>\n",
       "      <td>Exec-managerial</td>\n",
       "      <td>Wife</td>\n",
       "      <td>White</td>\n",
       "      <td>Female</td>\n",
       "      <td>0</td>\n",
       "      <td>0</td>\n",
       "      <td>40</td>\n",
       "      <td>United-States</td>\n",
       "      <td>&lt;=50K</td>\n",
       "    </tr>\n",
       "    <tr>\n",
       "      <th>6</th>\n",
       "      <td>49</td>\n",
       "      <td>Private</td>\n",
       "      <td>160187</td>\n",
       "      <td>9th</td>\n",
       "      <td>5</td>\n",
       "      <td>Married-spouse-absent</td>\n",
       "      <td>Other-service</td>\n",
       "      <td>Not-in-family</td>\n",
       "      <td>Black</td>\n",
       "      <td>Female</td>\n",
       "      <td>0</td>\n",
       "      <td>0</td>\n",
       "      <td>16</td>\n",
       "      <td>Jamaica</td>\n",
       "      <td>&lt;=50K</td>\n",
       "    </tr>\n",
       "    <tr>\n",
       "      <th>7</th>\n",
       "      <td>52</td>\n",
       "      <td>Self-emp-not-inc</td>\n",
       "      <td>209642</td>\n",
       "      <td>HS-grad</td>\n",
       "      <td>9</td>\n",
       "      <td>Married-civ-spouse</td>\n",
       "      <td>Exec-managerial</td>\n",
       "      <td>Husband</td>\n",
       "      <td>White</td>\n",
       "      <td>Male</td>\n",
       "      <td>0</td>\n",
       "      <td>0</td>\n",
       "      <td>45</td>\n",
       "      <td>United-States</td>\n",
       "      <td>&gt;50K</td>\n",
       "    </tr>\n",
       "    <tr>\n",
       "      <th>8</th>\n",
       "      <td>31</td>\n",
       "      <td>Private</td>\n",
       "      <td>45781</td>\n",
       "      <td>Masters</td>\n",
       "      <td>14</td>\n",
       "      <td>Never-married</td>\n",
       "      <td>Prof-specialty</td>\n",
       "      <td>Not-in-family</td>\n",
       "      <td>White</td>\n",
       "      <td>Female</td>\n",
       "      <td>14084</td>\n",
       "      <td>0</td>\n",
       "      <td>50</td>\n",
       "      <td>United-States</td>\n",
       "      <td>&gt;50K</td>\n",
       "    </tr>\n",
       "    <tr>\n",
       "      <th>9</th>\n",
       "      <td>42</td>\n",
       "      <td>Private</td>\n",
       "      <td>159449</td>\n",
       "      <td>Bachelors</td>\n",
       "      <td>13</td>\n",
       "      <td>Married-civ-spouse</td>\n",
       "      <td>Exec-managerial</td>\n",
       "      <td>Husband</td>\n",
       "      <td>White</td>\n",
       "      <td>Male</td>\n",
       "      <td>5178</td>\n",
       "      <td>0</td>\n",
       "      <td>40</td>\n",
       "      <td>United-States</td>\n",
       "      <td>&gt;50K</td>\n",
       "    </tr>\n",
       "  </tbody>\n",
       "</table>\n",
       "</div>"
      ],
      "text/plain": [
       "   age          workclass  fnlwgt   education  education-num  \\\n",
       "0   39          State-gov   77516   Bachelors             13   \n",
       "1   50   Self-emp-not-inc   83311   Bachelors             13   \n",
       "2   38            Private  215646     HS-grad              9   \n",
       "3   53            Private  234721        11th              7   \n",
       "4   28            Private  338409   Bachelors             13   \n",
       "5   37            Private  284582     Masters             14   \n",
       "6   49            Private  160187         9th              5   \n",
       "7   52   Self-emp-not-inc  209642     HS-grad              9   \n",
       "8   31            Private   45781     Masters             14   \n",
       "9   42            Private  159449   Bachelors             13   \n",
       "\n",
       "           marital-status          occupation    relationship    race  \\\n",
       "0           Never-married        Adm-clerical   Not-in-family   White   \n",
       "1      Married-civ-spouse     Exec-managerial         Husband   White   \n",
       "2                Divorced   Handlers-cleaners   Not-in-family   White   \n",
       "3      Married-civ-spouse   Handlers-cleaners         Husband   Black   \n",
       "4      Married-civ-spouse      Prof-specialty            Wife   Black   \n",
       "5      Married-civ-spouse     Exec-managerial            Wife   White   \n",
       "6   Married-spouse-absent       Other-service   Not-in-family   Black   \n",
       "7      Married-civ-spouse     Exec-managerial         Husband   White   \n",
       "8           Never-married      Prof-specialty   Not-in-family   White   \n",
       "9      Married-civ-spouse     Exec-managerial         Husband   White   \n",
       "\n",
       "       sex  capital-gain  capital-loss  hours-per-week  native-country   class  \n",
       "0     Male          2174             0              40   United-States   <=50K  \n",
       "1     Male             0             0              13   United-States   <=50K  \n",
       "2     Male             0             0              40   United-States   <=50K  \n",
       "3     Male             0             0              40   United-States   <=50K  \n",
       "4   Female             0             0              40            Cuba   <=50K  \n",
       "5   Female             0             0              40   United-States   <=50K  \n",
       "6   Female             0             0              16         Jamaica   <=50K  \n",
       "7     Male             0             0              45   United-States    >50K  \n",
       "8   Female         14084             0              50   United-States    >50K  \n",
       "9     Male          5178             0              40   United-States    >50K  "
      ]
     },
     "execution_count": 4,
     "metadata": {},
     "output_type": "execute_result"
    }
   ],
   "source": [
    "#Reading in the training data (I will pretend the training data is our collected data)\n",
    "au_train = pd.read_csv(\"au_train.csv\")\n",
    "au_train.head(10)"
   ]
  },
  {
   "attachments": {},
   "cell_type": "markdown",
   "metadata": {},
   "source": [
    "The purpose of this segmentation study will to be to identify different traits and characteristics from the sampled population of people who make $\\le$ 50K or >50K. There are multiple ways to look at how to begin dividing up people, so I will start with looking into how a person's gender affects whether a person makes $\\le$ 50K or > 50K.\n",
    "\n",
    "## Gender"
   ]
  },
  {
   "cell_type": "code",
   "execution_count": 5,
   "metadata": {},
   "outputs": [],
   "source": [
    "#Creating subsets\n",
    "#Income class\n",
    "le50k = au_train[au_train[\"class\"] == \" <=50K\"]\n",
    "g50k = au_train[au_train[\"class\"] == \" >50K\"]\n",
    "#Gender\n",
    "m = au_train[au_train[\"sex\"] == \" Male\"]\n",
    "f = au_train[au_train[\"sex\"] == \" Female\"]"
   ]
  },
  {
   "attachments": {},
   "cell_type": "markdown",
   "metadata": {},
   "source": [
    "Now let's take a look at some breakdowns starting with the variable of interest."
   ]
  },
  {
   "cell_type": "code",
   "execution_count": 6,
   "metadata": {},
   "outputs": [
    {
     "name": "stdout",
     "output_type": "stream",
     "text": [
      " <=50K    15128\n",
      " >50K      6662\n",
      "Name: class, dtype: int64\n",
      "The percentage of men who made ≤ 50K is 0.6942.\n",
      " <=50K    9592\n",
      " >50K     1179\n",
      "Name: class, dtype: int64\n",
      "The percentage of women who made ≤ 50K is 0.8905.\n"
     ]
    }
   ],
   "source": [
    "print(m[\"class\"].value_counts())\n",
    "print(\"The percentage of men who made ≤ 50K is \"+str(round(15128/(15129 + 6662), 4))+\".\")\n",
    "print(f[\"class\"].value_counts())\n",
    "print(\"The percentage of women who made ≤ 50K is \"+str(round(9592/(9592 + 1179), 4))+\".\")"
   ]
  },
  {
   "attachments": {},
   "cell_type": "markdown",
   "metadata": {},
   "source": [
    "From a cursory glance, it would appear there is some income inequality going on. 69.42% of men make $\\le$ 50K, while 89.05% of women make $\\le$ 50K, almost a 20% difference. However, there are most likely some confounding variables here. One that comes to mind would be education. The more education one has, the more money they tend to make. Therefore I will look at the distribution of education next."
   ]
  },
  {
   "cell_type": "code",
   "execution_count": 7,
   "metadata": {},
   "outputs": [
    {
     "data": {
      "text/plain": [
       " HS-grad         0.357039\n",
       " Some-college    0.238835\n",
       " Bachelors       0.126780\n",
       " 11th            0.045105\n",
       " Assoc-voc       0.041303\n",
       " 10th            0.035235\n",
       " Assoc-acdm      0.032443\n",
       " Masters         0.030906\n",
       " 7th-8th         0.024515\n",
       " 9th             0.019701\n",
       " 12th            0.016181\n",
       " 5th-6th         0.012824\n",
       " 1st-4th         0.006553\n",
       " Prof-school     0.006189\n",
       " Doctorate       0.004328\n",
       " Preschool       0.002063\n",
       "Name: education, dtype: float64"
      ]
     },
     "execution_count": 7,
     "metadata": {},
     "output_type": "execute_result"
    }
   ],
   "source": [
    "#Tables\n",
    "#<=50K\n",
    "le50k[\"education\"].value_counts(normalize=True)"
   ]
  },
  {
   "cell_type": "code",
   "execution_count": 8,
   "metadata": {},
   "outputs": [
    {
     "data": {
      "text/plain": [
       " Bachelors       0.283255\n",
       " HS-grad         0.213621\n",
       " Some-college    0.176891\n",
       " Masters         0.122306\n",
       " Prof-school     0.053947\n",
       " Assoc-voc       0.046040\n",
       " Doctorate       0.039026\n",
       " Assoc-acdm      0.033797\n",
       " 10th            0.007907\n",
       " 11th            0.007652\n",
       " 7th-8th         0.005101\n",
       " 12th            0.004209\n",
       " 9th             0.003443\n",
       " 5th-6th         0.002041\n",
       " 1st-4th         0.000765\n",
       "Name: education, dtype: float64"
      ]
     },
     "execution_count": 8,
     "metadata": {},
     "output_type": "execute_result"
    }
   ],
   "source": [
    "#>50k\n",
    "g50k[\"education\"].value_counts(normalize=True)"
   ]
  },
  {
   "cell_type": "code",
   "execution_count": 9,
   "metadata": {},
   "outputs": [
    {
     "data": {
      "image/png": "[encoded data removed]",
      "text/plain": [
       "<Figure size 432x288 with 1 Axes>"
      ]
     },
     "metadata": {
      "needs_background": "light"
     },
     "output_type": "display_data"
    },
    {
     "data": {
      "image/png": "[encoded data removed]",
      "text/plain": [
       "<Figure size 432x288 with 1 Axes>"
      ]
     },
     "metadata": {
      "needs_background": "light"
     },
     "output_type": "display_data"
    }
   ],
   "source": [
    "#Men\n",
    "m[\"education-num\"].hist(edgecolor = \"black\", color = \"#ceb888\", density = True)\n",
    "plt.xlabel(\"Education Number (Men)\")\n",
    "plt.gca().yaxis.set_major_formatter(PercentFormatter(1))\n",
    "plt.show()\n",
    "#Women\n",
    "f[\"education-num\"].hist(edgecolor = \"black\", color = \"#ceb888\", density = True)\n",
    "plt.xlabel(\"Education Number (Women)\")\n",
    "plt.gca().yaxis.set_major_formatter(PercentFormatter(1))\n",
    "plt.show()"
   ]
  },
  {
   "cell_type": "code",
   "execution_count": 10,
   "metadata": {},
   "outputs": [
    {
     "data": {
      "text/plain": [
       " HS-grad         0.326342\n",
       " Some-college    0.205828\n",
       " Bachelors       0.171455\n",
       " Masters         0.054475\n",
       " Assoc-voc       0.040477\n",
       " 11th            0.034098\n",
       " Assoc-acdm      0.029647\n",
       " 10th            0.029279\n",
       " 7th-8th         0.022304\n",
       " Prof-school     0.022212\n",
       " 9th             0.016980\n",
       " Doctorate       0.015007\n",
       " 12th            0.013263\n",
       " 5th-6th         0.011427\n",
       " 1st-4th         0.005599\n",
       " Preschool       0.001606\n",
       "Name: education, dtype: float64"
      ]
     },
     "execution_count": 10,
     "metadata": {},
     "output_type": "execute_result"
    }
   ],
   "source": [
    "#Table for Men\n",
    "m[\"education\"].value_counts(normalize=True)"
   ]
  },
  {
   "cell_type": "code",
   "execution_count": 11,
   "metadata": {},
   "outputs": [
    {
     "data": {
      "text/plain": [
       " HS-grad         0.314734\n",
       " Some-college    0.260514\n",
       " Bachelors       0.150311\n",
       " Masters         0.049763\n",
       " Assoc-voc       0.046421\n",
       " 11th            0.040108\n",
       " Assoc-acdm      0.039086\n",
       " 10th            0.027388\n",
       " 7th-8th         0.014855\n",
       " 9th             0.013369\n",
       " 12th            0.013369\n",
       " Prof-school     0.008541\n",
       " Doctorate       0.007984\n",
       " 5th-6th         0.007799\n",
       " 1st-4th         0.004271\n",
       " Preschool       0.001485\n",
       "Name: education, dtype: float64"
      ]
     },
     "execution_count": 11,
     "metadata": {},
     "output_type": "execute_result"
    }
   ],
   "source": [
    "#Table for Women\n",
    "f[\"education\"].value_counts(normalize=True)"
   ]
  },
  {
   "attachments": {},
   "cell_type": "markdown",
   "metadata": {},
   "source": [
    "It would appear that the distributions are similar, so education is not the reason for this. Therefore I will look at `occupation` next. Some jobs pay more than others so if there is a disparity in a person's occupation, that could lead to the income inequality above."
   ]
  },
  {
   "cell_type": "code",
   "execution_count": 12,
   "metadata": {},
   "outputs": [
    {
     "data": {
      "text/plain": [
       " Adm-clerical         0.131998\n",
       " Craft-repair         0.128236\n",
       " Other-service        0.127751\n",
       " Sales                0.107888\n",
       " Prof-specialty       0.092273\n",
       " Exec-managerial      0.084871\n",
       " Machine-op-inspct    0.070874\n",
       " ?                    0.066828\n",
       " Handlers-cleaners    0.051942\n",
       " Transport-moving     0.051659\n",
       " Farming-fishing      0.035558\n",
       " Tech-support         0.026092\n",
       " Protective-serv      0.017718\n",
       " Priv-house-serv      0.005987\n",
       " Armed-Forces         0.000324\n",
       "Name: occupation, dtype: float64"
      ]
     },
     "execution_count": 12,
     "metadata": {},
     "output_type": "execute_result"
    }
   ],
   "source": [
    "#Tables\n",
    "#<=50K\n",
    "le50k[\"occupation\"].value_counts(normalize=True)"
   ]
  },
  {
   "cell_type": "code",
   "execution_count": 13,
   "metadata": {},
   "outputs": [
    {
     "data": {
      "text/plain": [
       " Exec-managerial      0.250988\n",
       " Prof-specialty       0.237087\n",
       " Sales                0.125367\n",
       " Craft-repair         0.118480\n",
       " Adm-clerical         0.064660\n",
       " Transport-moving     0.040811\n",
       " Tech-support         0.036092\n",
       " Machine-op-inspct    0.031884\n",
       " Protective-serv      0.026910\n",
       " ?                    0.024359\n",
       " Other-service        0.017472\n",
       " Farming-fishing      0.014666\n",
       " Handlers-cleaners    0.010968\n",
       " Armed-Forces         0.000128\n",
       " Priv-house-serv      0.000128\n",
       "Name: occupation, dtype: float64"
      ]
     },
     "execution_count": 13,
     "metadata": {},
     "output_type": "execute_result"
    }
   ],
   "source": [
    "#>50K\n",
    "g50k[\"occupation\"].value_counts(normalize=True)"
   ]
  },
  {
   "cell_type": "code",
   "execution_count": 14,
   "metadata": {},
   "outputs": [
    {
     "data": {
      "text/plain": [
       " Craft-repair         0.177926\n",
       " Exec-managerial      0.133410\n",
       " Prof-specialty       0.120468\n",
       " Sales                0.109546\n",
       " Transport-moving     0.069160\n",
       " Other-service        0.068609\n",
       " Machine-op-inspct    0.066636\n",
       " Adm-clerical         0.056586\n",
       " Handlers-cleaners    0.055346\n",
       " ?                    0.045984\n",
       " Farming-fishing      0.042634\n",
       " Tech-support         0.026618\n",
       " Protective-serv      0.026296\n",
       " Armed-Forces         0.000413\n",
       " Priv-house-serv      0.000367\n",
       "Name: occupation, dtype: float64"
      ]
     },
     "execution_count": 14,
     "metadata": {},
     "output_type": "execute_result"
    }
   ],
   "source": [
    "#Men\n",
    "m[\"occupation\"].value_counts(normalize=True)"
   ]
  },
  {
   "cell_type": "code",
   "execution_count": 15,
   "metadata": {},
   "outputs": [
    {
     "data": {
      "text/plain": [
       " Adm-clerical         0.235540\n",
       " Other-service        0.167115\n",
       " Prof-specialty       0.140655\n",
       " Sales                0.117259\n",
       " Exec-managerial      0.107604\n",
       " ?                    0.078080\n",
       " Machine-op-inspct    0.051063\n",
       " Tech-support         0.032309\n",
       " Craft-repair         0.020611\n",
       " Handlers-cleaners    0.015226\n",
       " Priv-house-serv      0.013091\n",
       " Transport-moving     0.008356\n",
       " Protective-serv      0.007056\n",
       " Farming-fishing      0.006035\n",
       "Name: occupation, dtype: float64"
      ]
     },
     "execution_count": 15,
     "metadata": {},
     "output_type": "execute_result"
    }
   ],
   "source": [
    "#Women\n",
    "f[\"occupation\"].value_counts(normalize=True)"
   ]
  },
  {
   "attachments": {},
   "cell_type": "markdown",
   "metadata": {},
   "source": [
    "We now see a connection. The distribution for male occupations is closer to those who make >50K, while the distribution for female occupations is closer to those who make $\\le$ 50K. One last thing out of curiosity is do we have disparity in the number of hours worked? We know that education for both men and women is about the same, but men tend to hold jobs that are more likely to pay more. That then raises the question, \"Do men work more hours to earn that more money or not?\""
   ]
  },
  {
   "cell_type": "code",
   "execution_count": 16,
   "metadata": {},
   "outputs": [
    {
     "data": {
      "image/png": "[encoded data removed]",
      "text/plain": [
       "<Figure size 432x288 with 1 Axes>"
      ]
     },
     "metadata": {
      "needs_background": "light"
     },
     "output_type": "display_data"
    },
    {
     "data": {
      "image/png": "[encoded data removed]",
      "text/plain": [
       "<Figure size 432x288 with 1 Axes>"
      ]
     },
     "metadata": {
      "needs_background": "light"
     },
     "output_type": "display_data"
    },
    {
     "name": "stdout",
     "output_type": "stream",
     "text": [
      "The average hours per week a man works is 42.4281 hours per week.\n",
      "The average hours per week a woman works is 36.4104 hours per week.\n",
      "A 95.0% two-sample CI is (5.7427,6.2928)\n"
     ]
    }
   ],
   "source": [
    "#Men\n",
    "m[\"hours-per-week\"].hist(edgecolor = \"black\", color = \"#ceb888\", density = True)\n",
    "plt.xlabel(\"Hours Per Week (Men)\")\n",
    "plt.gca().yaxis.set_major_formatter(PercentFormatter(1))\n",
    "plt.show()\n",
    "#Women\n",
    "f[\"hours-per-week\"].hist(edgecolor = \"black\", color = \"#ceb888\", density = True)\n",
    "plt.xlabel(\"Hours Per Week (Women)\")\n",
    "plt.gca().yaxis.set_major_formatter(PercentFormatter(1))\n",
    "plt.show()\n",
    "#Averages\n",
    "#Male\n",
    "print(\"The average hours per week a man works is \"+str(round(m[\"hours-per-week\"].mean(), 4))+\" hours per week.\")\n",
    "#Female\n",
    "print(\"The average hours per week a woman works is \"+str(round(f[\"hours-per-week\"].mean(), 4))+\" hours per week.\")\n",
    "#CI for difference\n",
    "TwoSampCI(m[\"hours-per-week\"], f[\"hours-per-week\"])"
   ]
  },
  {
   "attachments": {},
   "cell_type": "markdown",
   "metadata": {},
   "source": [
    "The histograms above appears to show that men work more hours than women, so I created a custom two-sample confidence interval function to compare the difference in means. Using it, we can say with 95% confidence that the true difference between the number of hours men worked versus the number of hours women worked is 5.7427 to 6.2928 hours per week more. This would give some supporting evidence for why men are more likely to make >50K than women.\n",
    "\n",
    "So we now know that men are more likely to make >50K because they work in jobs that are more likely to pay >50K and in general work more hours. However, there is one more important factor that needs to be looked into, race.\n",
    "\n",
    "## Race\n",
    "\n",
    "Theoretically, it should not matter what a person's race is when looking at income levels. However, we know that this is unfortunately not the case."
   ]
  },
  {
   "cell_type": "code",
   "execution_count": 18,
   "metadata": {},
   "outputs": [
    {
     "data": {
      "text/plain": [
       " White                 0.854274\n",
       " Black                 0.095943\n",
       " Asian-Pac-Islander    0.031909\n",
       " Amer-Indian-Eskimo    0.009551\n",
       " Other                 0.008323\n",
       "Name: race, dtype: float64"
      ]
     },
     "execution_count": 18,
     "metadata": {},
     "output_type": "execute_result"
    }
   ],
   "source": [
    "au_train[\"race\"].value_counts(normalize=True)"
   ]
  },
  {
   "cell_type": "code",
   "execution_count": 19,
   "metadata": {},
   "outputs": [],
   "source": [
    "#Creating subsets\n",
    "w = au_train[au_train[\"race\"] == \" White\"]\n",
    "b = au_train[au_train[\"race\"] == \" Black\"]\n",
    "api = au_train[au_train[\"race\"] == \" Asian-Pac-Islander\"]\n",
    "aie = au_train[au_train[\"race\"] == \" Amer-Indian-Eskimo\"]\n",
    "o = au_train[au_train[\"race\"] == \" Other\"]"
   ]
  },
  {
   "cell_type": "code",
   "execution_count": 29,
   "metadata": {},
   "outputs": [
    {
     "name": "stdout",
     "output_type": "stream",
     "text": [
      " <=50K    20699\n",
      " >50K      7117\n",
      "Name: class, dtype: int64\n",
      "The percentage of white people who made ≤ 50K is 0.7441.\n",
      " <=50K    2737\n",
      " >50K      387\n",
      "Name: class, dtype: int64\n",
      "The percentage of black who made ≤ 50K is 0.8761.\n",
      " <=50K    763\n",
      " >50K     276\n",
      "Name: class, dtype: int64\n",
      "The percentage of Asian/Pacific Islanders who made ≤ 50K is 0.7344.\n",
      " <=50K    275\n",
      " >50K      36\n",
      "Name: class, dtype: int64\n",
      "The percentage of American Indian/Eskimo who made ≤ 50K is 0.8842.\n",
      " <=50K    246\n",
      " >50K      25\n",
      "Name: class, dtype: int64\n",
      "The percentage of 'Other' who made ≤ 50K is 0.9077.\n"
     ]
    }
   ],
   "source": [
    "print(w[\"class\"].value_counts())\n",
    "print(\"The percentage of white people who made ≤ 50K is \"+str(round(20699/(20699 + 7117), 4))+\".\")\n",
    "print(b[\"class\"].value_counts())\n",
    "print(\"The percentage of black who made ≤ 50K is \"+str(round(2737/(2737 + 387), 4))+\".\")\n",
    "print(api[\"class\"].value_counts())\n",
    "print(\"The percentage of Asian/Pacific Islanders who made ≤ 50K is \"+str(round(763/(763 + 276), 4))+\".\")\n",
    "print(aie[\"class\"].value_counts())\n",
    "print(\"The percentage of American Indian/Eskimo who made ≤ 50K is \"+str(round(275/(275 + 36), 4))+\".\")\n",
    "print(o[\"class\"].value_counts())\n",
    "print(\"The percentage of 'Other' who made ≤ 50K is \"+str(round(246/(246 + 25), 4))+\".\")"
   ]
  },
  {
   "attachments": {},
   "cell_type": "markdown",
   "metadata": {},
   "source": [
    "It would appear that we have some inequality here too. Whether a person makes $\\le$ 50K or not does change depending on a person's race. I will again make distributions showing education for people of each race."
   ]
  },
  {
   "cell_type": "code",
   "execution_count": 31,
   "metadata": {},
   "outputs": [
    {
     "data": {
      "image/png": "[encoded data removed]",
      "text/plain": [
       "<Figure size 432x288 with 1 Axes>"
      ]
     },
     "metadata": {
      "needs_background": "light"
     },
     "output_type": "display_data"
    },
    {
     "data": {
      "image/png": "[encoded data removed]",
      "text/plain": [
       "<Figure size 432x288 with 1 Axes>"
      ]
     },
     "metadata": {
      "needs_background": "light"
     },
     "output_type": "display_data"
    },
    {
     "data": {
      "image/png": "[encoded data removed]",
      "text/plain": [
       "<Figure size 432x288 with 1 Axes>"
      ]
     },
     "metadata": {
      "needs_background": "light"
     },
     "output_type": "display_data"
    },
    {
     "data": {
      "image/png": "[encoded data removed]",
      "text/plain": [
       "<Figure size 432x288 with 1 Axes>"
      ]
     },
     "metadata": {
      "needs_background": "light"
     },
     "output_type": "display_data"
    },
    {
     "data": {
      "image/png": "[encoded data removed]",
      "text/plain": [
       "<Figure size 432x288 with 1 Axes>"
      ]
     },
     "metadata": {
      "needs_background": "light"
     },
     "output_type": "display_data"
    }
   ],
   "source": [
    "#White\n",
    "w[\"education-num\"].hist(edgecolor = \"black\", color = \"#ceb888\", density = True)\n",
    "plt.xlabel(\"Education Number (White)\")\n",
    "plt.gca().yaxis.set_major_formatter(PercentFormatter(1))\n",
    "plt.show()\n",
    "#Black\n",
    "b[\"education-num\"].hist(edgecolor = \"black\", color = \"#ceb888\", density = True)\n",
    "plt.xlabel(\"Education Number (Black)\")\n",
    "plt.gca().yaxis.set_major_formatter(PercentFormatter(1))\n",
    "plt.show()\n",
    "#Asian/Pacific Islanders\n",
    "api[\"education-num\"].hist(edgecolor = \"black\", color = \"#ceb888\", density = True)\n",
    "plt.xlabel(\"Education Number (Asian/Pacific Islanders)\")\n",
    "plt.gca().yaxis.set_major_formatter(PercentFormatter(1))\n",
    "plt.show()\n",
    "#American Indian/Eskimo\n",
    "aie[\"education-num\"].hist(edgecolor = \"black\", color = \"#ceb888\", density = True)\n",
    "plt.xlabel(\"Education Number (American Indian/Eskimo)\")\n",
    "plt.gca().yaxis.set_major_formatter(PercentFormatter(1))\n",
    "plt.show()\n",
    "#Other\n",
    "o[\"education-num\"].hist(edgecolor = \"black\", color = \"#ceb888\", density = True)\n",
    "plt.xlabel(\"Education Number (Other)\")\n",
    "plt.gca().yaxis.set_major_formatter(PercentFormatter(1))\n",
    "plt.show()"
   ]
  },
  {
   "cell_type": "code",
   "execution_count": 32,
   "metadata": {},
   "outputs": [
    {
     "data": {
      "text/plain": [
       " HS-grad         0.320104\n",
       " Some-college    0.223145\n",
       " Bachelors       0.168320\n",
       " Masters         0.055256\n",
       " Assoc-voc       0.043392\n",
       " 11th            0.035124\n",
       " Assoc-acdm      0.032895\n",
       " 10th            0.027394\n",
       " 7th-8th         0.019881\n",
       " Prof-school     0.018479\n",
       " 9th             0.014488\n",
       " Doctorate       0.013266\n",
       " 12th            0.012043\n",
       " 5th-6th         0.010030\n",
       " 1st-4th         0.004817\n",
       " Preschool       0.001366\n",
       "Name: education, dtype: float64"
      ]
     },
     "execution_count": 32,
     "metadata": {},
     "output_type": "execute_result"
    }
   ],
   "source": [
    "#Table for White\n",
    "w[\"education\"].value_counts(normalize=True)"
   ]
  },
  {
   "cell_type": "code",
   "execution_count": 33,
   "metadata": {},
   "outputs": [
    {
     "data": {
      "text/plain": [
       " HS-grad         0.375800\n",
       " Some-college    0.238796\n",
       " Bachelors       0.105634\n",
       " 11th            0.048976\n",
       " 10th            0.042574\n",
       " Assoc-voc       0.035851\n",
       " Assoc-acdm      0.034251\n",
       " 9th             0.028489\n",
       " Masters         0.027529\n",
       " 12th            0.022407\n",
       " 7th-8th         0.017926\n",
       " 5th-6th         0.006722\n",
       " 1st-4th         0.005122\n",
       " Prof-school     0.004802\n",
       " Doctorate       0.003521\n",
       " Preschool       0.001601\n",
       "Name: education, dtype: float64"
      ]
     },
     "execution_count": 33,
     "metadata": {},
     "output_type": "execute_result"
    }
   ],
   "source": [
    "#Table for Black\n",
    "b[\"education\"].value_counts(normalize=True)"
   ]
  },
  {
   "cell_type": "code",
   "execution_count": 34,
   "metadata": {},
   "outputs": [
    {
     "data": {
      "text/plain": [
       " Bachelors       0.278152\n",
       " HS-grad         0.217517\n",
       " Some-college    0.200192\n",
       " Masters         0.084697\n",
       " Prof-school     0.039461\n",
       " Assoc-voc       0.036574\n",
       " Assoc-acdm      0.027911\n",
       " Doctorate       0.026949\n",
       " 11th            0.020212\n",
       " 5th-6th         0.017324\n",
       " 10th            0.012512\n",
       " 7th-8th         0.010587\n",
       " 9th             0.008662\n",
       " 12th            0.008662\n",
       " Preschool       0.005775\n",
       " 1st-4th         0.004812\n",
       "Name: education, dtype: float64"
      ]
     },
     "execution_count": 34,
     "metadata": {},
     "output_type": "execute_result"
    }
   ],
   "source": [
    "#Table for Asian/Pacific Islander\n",
    "api[\"education\"].value_counts(normalize=True)"
   ]
  },
  {
   "cell_type": "code",
   "execution_count": 35,
   "metadata": {},
   "outputs": [
    {
     "data": {
      "text/plain": [
       " HS-grad         0.382637\n",
       " Some-college    0.254019\n",
       " Bachelors       0.067524\n",
       " Assoc-voc       0.061093\n",
       " 10th            0.051447\n",
       " 11th            0.045016\n",
       " 7th-8th         0.028939\n",
       " Assoc-acdm      0.025723\n",
       " 9th             0.016077\n",
       " Masters         0.016077\n",
       " 12th            0.016077\n",
       " 1st-4th         0.012862\n",
       " Doctorate       0.009646\n",
       " Prof-school     0.006431\n",
       " 5th-6th         0.006431\n",
       "Name: education, dtype: float64"
      ]
     },
     "execution_count": 35,
     "metadata": {},
     "output_type": "execute_result"
    }
   ],
   "source": [
    "#Table for American Indian/Eskimo\n",
    "aie[\"education\"].value_counts(normalize=True)"
   ]
  },
  {
   "cell_type": "code",
   "execution_count": 36,
   "metadata": {},
   "outputs": [
    {
     "data": {
      "text/plain": [
       " HS-grad         0.287823\n",
       " Some-college    0.188192\n",
       " Bachelors       0.121771\n",
       " 7th-8th         0.062731\n",
       " 12th            0.051661\n",
       " 5th-6th         0.047970\n",
       " 11th            0.036900\n",
       " 10th            0.033210\n",
       " 1st-4th         0.033210\n",
       " 9th             0.029520\n",
       " Assoc-acdm      0.029520\n",
       " Masters         0.025830\n",
       " Assoc-voc       0.022140\n",
       " Prof-school     0.014760\n",
       " Doctorate       0.007380\n",
       " Preschool       0.007380\n",
       "Name: education, dtype: float64"
      ]
     },
     "execution_count": 36,
     "metadata": {},
     "output_type": "execute_result"
    }
   ],
   "source": [
    "#Table for Other\n",
    "o[\"education\"].value_counts(normalize=True)"
   ]
  },
  {
   "attachments": {},
   "cell_type": "markdown",
   "metadata": {},
   "source": [
    "We can see from the histrograms that there is indeed differences for education levels here. While `HS-grad`, `Some-college`, and `Bachelors` are at the top for all levels, they are varrying in proportion greatly. Also, the groups after these three also vary greatly. For example, white people, next is `Masters` and `Assoc-voc`, but for black people, next are `11th` and `10th` which is a large gap in years of education. This is also even larger when comparing black people to Asian/Pacific Islanders who's next are `Masters` and `Doctorate`, which is an even larger gap in years of education than when compared to white people. I will now look at the breakdown for `occupation` to see if there is a difference in the distribution between races like there was between genders."
   ]
  },
  {
   "cell_type": "code",
   "execution_count": 37,
   "metadata": {},
   "outputs": [
    {
     "data": {
      "text/plain": [
       " Adm-clerical         0.131998\n",
       " Craft-repair         0.128236\n",
       " Other-service        0.127751\n",
       " Sales                0.107888\n",
       " Prof-specialty       0.092273\n",
       " Exec-managerial      0.084871\n",
       " Machine-op-inspct    0.070874\n",
       " ?                    0.066828\n",
       " Handlers-cleaners    0.051942\n",
       " Transport-moving     0.051659\n",
       " Farming-fishing      0.035558\n",
       " Tech-support         0.026092\n",
       " Protective-serv      0.017718\n",
       " Priv-house-serv      0.005987\n",
       " Armed-Forces         0.000324\n",
       "Name: occupation, dtype: float64"
      ]
     },
     "execution_count": 37,
     "metadata": {},
     "output_type": "execute_result"
    }
   ],
   "source": [
    "#Tables (again for convenience)\n",
    "#<=50K\n",
    "le50k[\"occupation\"].value_counts(normalize=True)"
   ]
  },
  {
   "cell_type": "code",
   "execution_count": 38,
   "metadata": {},
   "outputs": [
    {
     "data": {
      "text/plain": [
       " Exec-managerial      0.250988\n",
       " Prof-specialty       0.237087\n",
       " Sales                0.125367\n",
       " Craft-repair         0.118480\n",
       " Adm-clerical         0.064660\n",
       " Transport-moving     0.040811\n",
       " Tech-support         0.036092\n",
       " Machine-op-inspct    0.031884\n",
       " Protective-serv      0.026910\n",
       " ?                    0.024359\n",
       " Other-service        0.017472\n",
       " Farming-fishing      0.014666\n",
       " Handlers-cleaners    0.010968\n",
       " Armed-Forces         0.000128\n",
       " Priv-house-serv      0.000128\n",
       "Name: occupation, dtype: float64"
      ]
     },
     "execution_count": 38,
     "metadata": {},
     "output_type": "execute_result"
    }
   ],
   "source": [
    "#>50K\n",
    "g50k[\"occupation\"].value_counts(normalize=True)"
   ]
  },
  {
   "cell_type": "code",
   "execution_count": 39,
   "metadata": {},
   "outputs": [
    {
     "data": {
      "text/plain": [
       " Craft-repair         0.132801\n",
       " Prof-specialty       0.131255\n",
       " Exec-managerial      0.131076\n",
       " Sales                0.116372\n",
       " Adm-clerical         0.110871\n",
       " Other-service        0.090703\n",
       " Machine-op-inspct    0.057916\n",
       " ?                    0.054465\n",
       " Transport-moving     0.048893\n",
       " Handlers-cleaners    0.040768\n",
       " Farming-fishing      0.032895\n",
       " Tech-support         0.028976\n",
       " Protective-serv      0.018658\n",
       " Priv-house-serv      0.004098\n",
       " Armed-Forces         0.000252\n",
       "Name: occupation, dtype: float64"
      ]
     },
     "execution_count": 39,
     "metadata": {},
     "output_type": "execute_result"
    }
   ],
   "source": [
    "#White\n",
    "w[\"occupation\"].value_counts(normalize=True)"
   ]
  },
  {
   "cell_type": "code",
   "execution_count": 40,
   "metadata": {},
   "outputs": [
    {
     "data": {
      "text/plain": [
       " Other-service        0.182778\n",
       " Adm-clerical         0.156850\n",
       " Machine-op-inspct    0.087708\n",
       " Sales                0.081306\n",
       " Exec-managerial      0.078105\n",
       " Craft-repair         0.078105\n",
       " Prof-specialty       0.076504\n",
       " ?                    0.068822\n",
       " Handlers-cleaners    0.057298\n",
       " Transport-moving     0.054417\n",
       " Protective-serv      0.032650\n",
       " Tech-support         0.022727\n",
       " Farming-fishing      0.013444\n",
       " Priv-house-serv      0.008963\n",
       " Armed-Forces         0.000320\n",
       "Name: occupation, dtype: float64"
      ]
     },
     "execution_count": 40,
     "metadata": {},
     "output_type": "execute_result"
    }
   ],
   "source": [
    "#Black\n",
    "b[\"occupation\"].value_counts(normalize=True)"
   ]
  },
  {
   "cell_type": "code",
   "execution_count": 41,
   "metadata": {},
   "outputs": [
    {
     "data": {
      "text/plain": [
       " Prof-specialty       0.179018\n",
       " Adm-clerical         0.133782\n",
       " Exec-managerial      0.129933\n",
       " Other-service        0.123195\n",
       " Sales                0.103946\n",
       " Craft-repair         0.085659\n",
       " ?                    0.062560\n",
       " Machine-op-inspct    0.056785\n",
       " Tech-support         0.042348\n",
       " Transport-moving     0.026949\n",
       " Handlers-cleaners    0.022137\n",
       " Farming-fishing      0.015399\n",
       " Protective-serv      0.014437\n",
       " Priv-house-serv      0.003850\n",
       "Name: occupation, dtype: float64"
      ]
     },
     "execution_count": 41,
     "metadata": {},
     "output_type": "execute_result"
    }
   ],
   "source": [
    "#Asian/Pacific Islander\n",
    "api[\"occupation\"].value_counts(normalize=True)"
   ]
  },
  {
   "cell_type": "code",
   "execution_count": 42,
   "metadata": {},
   "outputs": [
    {
     "data": {
      "text/plain": [
       " Craft-repair         0.141479\n",
       " Other-service        0.106109\n",
       " Prof-specialty       0.106109\n",
       " Adm-clerical         0.099678\n",
       " Exec-managerial      0.096463\n",
       " Sales                0.083601\n",
       " Transport-moving     0.080386\n",
       " ?                    0.080386\n",
       " Handlers-cleaners    0.070740\n",
       " Machine-op-inspct    0.061093\n",
       " Farming-fishing      0.032154\n",
       " Protective-serv      0.025723\n",
       " Tech-support         0.012862\n",
       " Armed-Forces         0.003215\n",
       "Name: occupation, dtype: float64"
      ]
     },
     "execution_count": 42,
     "metadata": {},
     "output_type": "execute_result"
    }
   ],
   "source": [
    "#American Indian/Eskimo\n",
    "aie[\"occupation\"].value_counts(normalize=True)"
   ]
  },
  {
   "cell_type": "code",
   "execution_count": 43,
   "metadata": {},
   "outputs": [
    {
     "data": {
      "text/plain": [
       " Other-service        0.147601\n",
       " Machine-op-inspct    0.143911\n",
       " Prof-specialty       0.114391\n",
       " Craft-repair         0.103321\n",
       " Adm-clerical         0.095941\n",
       " Sales                0.092251\n",
       " ?                    0.084871\n",
       " Transport-moving     0.051661\n",
       " Handlers-cleaners    0.044280\n",
       " Exec-managerial      0.040590\n",
       " Farming-fishing      0.040590\n",
       " Protective-serv      0.018450\n",
       " Tech-support         0.011070\n",
       " Priv-house-serv      0.011070\n",
       "Name: occupation, dtype: float64"
      ]
     },
     "execution_count": 43,
     "metadata": {},
     "output_type": "execute_result"
    }
   ],
   "source": [
    "#Other\n",
    "o[\"occupation\"].value_counts(normalize=True)"
   ]
  },
  {
   "attachments": {},
   "cell_type": "markdown",
   "metadata": {},
   "source": [
    "When looking at the distribution of occupations between races, we notice a few things. The first is that the two races that proportionally have people who make >50K (`white` and `Asian-Pac-Islander`) have jobs that are more likely to pay out >50K such as `Prof-specialty` and `Exec-managerial`. The other three groups have `Other-service` as #1 or #2 which is more likely to pay out $\\le$ 50K. Finally, I will do what I did before for genders and look at how many hours per week a person worked between the different groups."
   ]
  },
  {
   "cell_type": "code",
   "execution_count": 45,
   "metadata": {},
   "outputs": [
    {
     "data": {
      "image/png": "[encoded data removed]",
      "text/plain": [
       "<Figure size 432x288 with 1 Axes>"
      ]
     },
     "metadata": {
      "needs_background": "light"
     },
     "output_type": "display_data"
    },
    {
     "data": {
      "image/png": "[encoded data removed]",
      "text/plain": [
       "<Figure size 432x288 with 1 Axes>"
      ]
     },
     "metadata": {
      "needs_background": "light"
     },
     "output_type": "display_data"
    },
    {
     "data": {
      "image/png": "[encoded data removed]",
      "text/plain": [
       "<Figure size 432x288 with 1 Axes>"
      ]
     },
     "metadata": {
      "needs_background": "light"
     },
     "output_type": "display_data"
    },
    {
     "data": {
      "image/png": "[encoded data removed]",
      "text/plain": [
       "<Figure size 432x288 with 1 Axes>"
      ]
     },
     "metadata": {
      "needs_background": "light"
     },
     "output_type": "display_data"
    },
    {
     "data": {
      "image/png": "[encoded data removed]",
      "text/plain": [
       "<Figure size 432x288 with 1 Axes>"
      ]
     },
     "metadata": {
      "needs_background": "light"
     },
     "output_type": "display_data"
    },
    {
     "name": "stdout",
     "output_type": "stream",
     "text": [
      "The average hours per week a 'white' person works is 40.6891 hours per week.\n",
      "The average hours per week a 'black' person works is 38.4229 hours per week.\n",
      "The average hours per week an 'Asian/Pacific Islander' person works is 40.127 hours per week.\n",
      "The average hours per week an 'American Indian/Eskimo' person works is 40.0482 hours per week.\n",
      "The average hours per week an 'other' person works is 39.4686 hours per week.\n"
     ]
    }
   ],
   "source": [
    "#White\n",
    "w[\"hours-per-week\"].hist(edgecolor = \"black\", color = \"#ceb888\", density = True)\n",
    "plt.xlabel(\"Hours Per Week (White)\")\n",
    "plt.gca().yaxis.set_major_formatter(PercentFormatter(1))\n",
    "plt.show()\n",
    "#Black\n",
    "b[\"hours-per-week\"].hist(edgecolor = \"black\", color = \"#ceb888\", density = True)\n",
    "plt.xlabel(\"Hours Per Week (Black)\")\n",
    "plt.gca().yaxis.set_major_formatter(PercentFormatter(1))\n",
    "plt.show()\n",
    "#Asian/Pacific Islanders\n",
    "api[\"hours-per-week\"].hist(edgecolor = \"black\", color = \"#ceb888\", density = True)\n",
    "plt.xlabel(\"Hours Per Week (Asian/Pacific Islanders)\")\n",
    "plt.gca().yaxis.set_major_formatter(PercentFormatter(1))\n",
    "plt.show()\n",
    "#American Indian/Eskimo\n",
    "aie[\"hours-per-week\"].hist(edgecolor = \"black\", color = \"#ceb888\", density = True)\n",
    "plt.xlabel(\"Hours Per Week (American Indian/Eskimo)\")\n",
    "plt.gca().yaxis.set_major_formatter(PercentFormatter(1))\n",
    "plt.show()\n",
    "#Other\n",
    "o[\"hours-per-week\"].hist(edgecolor = \"black\", color = \"#ceb888\", density = True)\n",
    "plt.xlabel(\"Hours Per Week (Other)\")\n",
    "plt.gca().yaxis.set_major_formatter(PercentFormatter(1))\n",
    "plt.show()\n",
    "#Averages\n",
    "#White\n",
    "print(\"The average hours per week a 'white' person works is \"+str(round(w[\"hours-per-week\"].mean(), 4))+\" hours per week.\")\n",
    "#Black\n",
    "print(\"The average hours per week a 'black' person works is \"+str(round(b[\"hours-per-week\"].mean(), 4))+\" hours per week.\")\n",
    "#Asian/Pacific Islander\n",
    "print(\"The average hours per week an 'Asian/Pacific Islander' person works is \"+str(round(api[\"hours-per-week\"].mean(), 4))+\" hours per week.\")\n",
    "#American Indian/Eskimo\n",
    "print(\"The average hours per week an 'American Indian/Eskimo' person works is \"+str(round(aie[\"hours-per-week\"].mean(), 4))+\" hours per week.\")\n",
    "#Other\n",
    "print(\"The average hours per week an 'other' person works is \"+str(round(o[\"hours-per-week\"].mean(), 4))+\" hours per week.\")"
   ]
  },
  {
   "attachments": {},
   "cell_type": "markdown",
   "metadata": {},
   "source": [
    "The average hours between groups does not appear to be that different, so we can say there is a good chance that the difference in proportions is being caused by the difference in education and job types of the different races."
   ]
  },
  {
   "cell_type": "code",
   "execution_count": null,
   "metadata": {},
   "outputs": [],
   "source": []
  }
 ],
 "metadata": {
  "kernelspec": {
   "display_name": "Python 3",
   "language": "python",
   "name": "python3"
  },
  "language_info": {
   "codemirror_mode": {
    "name": "ipython",
    "version": 3
   },
   "file_extension": ".py",
   "mimetype": "text/x-python",
   "name": "python",
   "nbconvert_exporter": "python",
   "pygments_lexer": "ipython3",
   "version": "3.9.6"
  },
  "orig_nbformat": 4
 },
 "nbformat": 4,
 "nbformat_minor": 2
}
